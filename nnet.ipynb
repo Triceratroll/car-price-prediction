from sklearn.model_selection import GridSearchCV
from sklearn.neural_network import MLPClassifier
from sklearn.preprocessing import MinMaxScaler

# Select the variables to use in the model
X_nnet = cars[["kms", "year","power","doors"]]
y_nnet = cars["price"]

# Split the data into training and testing sets
X_nnet_train, X_nnet_test, y_nnet_train, y_nnet_test = train_test_split(X_nnet, y_nnet, test_size=0.3)

# Train a neuronal network model
model_nnet = MLPClassifier()
model_nnet.fit(X_nnet_train, y_nnet_train)

# Evaluate the model on the testing set
y_nnet_pred = model.predict(X_nnet_test)

# Calculate the error metrics
from sklearn.metrics import mean_absolute_error, mean_squared_error

mae_nnet = mean_absolute_error(y_nnet_test, y_nnet_pred)
rmse_nnet = np.sqrt(mean_squared_error(y_nnet_test, y_nnet_pred))
mape_nnet = np.mean(np.abs((y_nnet_test - y_nnet_pred)/y_nnet_test))*100

print("Mean Absolute Error:", mae_nnet)
print("Root Mean Squared Error:", rmse_nnet)
print("Mean Absolute Percentage Error:", mape_nnet)
