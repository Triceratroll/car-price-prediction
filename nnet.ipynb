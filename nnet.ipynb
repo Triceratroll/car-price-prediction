{
 "cells": [
  {
   "cell_type": "code",
   "execution_count": null,
   "metadata": {},
   "outputs": [],
   "source": [
    "from sklearn.model_selection import GridSearchCV\n",
    "from sklearn.neural_network import MLPClassifier\n",
    "from sklearn.preprocessing import MinMaxScaler"
   ]
  },
  {
   "cell_type": "code",
   "execution_count": null,
   "metadata": {},
   "outputs": [],
   "source": [
    "# Split the data into training and testing sets\n",
    "X_nnet_train, X_nnet_test, y_nnet_train, y_nnet_test = train_test_split(X_nnet, y_nnet, test_size=0.3)\n",
    "\n",
    "# Train a neuronal network model\n",
    "model_nnet = MLPClassifier()\n",
    "model_nnet.fit(X_nnet_train, y_nnet_train)\n",
    "\n",
    "# Evaluate the model on the testing set\n",
    "y_nnet_pred = model.predict(X_nnet_test)\n",
    "\n",
    "# Calculate the error metrics\n",
    "from sklearn.metrics import mean_absolute_error, mean_squared_error\n",
    "\n",
    "mae_nnet = mean_absolute_error(y_nnet_test, y_nnet_pred)\n",
    "rmse_nnet = np.sqrt(mean_squared_error(y_nnet_test, y_nnet_pred))\n",
    "mape_nnet = np.mean(np.abs((y_nnet_test - y_nnet_pred)/y_nnet_test))*100\n",
    "\n",
    "print(\"Mean Absolute Error:\", mae_nnet)\n",
    "print(\"Root Mean Squared Error:\", rmse_nnet)\n",
    "print(\"Mean Absolute Percentage Error:\", mape_nnet)"
   ]
  }
 ],
 "metadata": {
  "kernelspec": {
   "display_name": "Python 3",
   "language": "python",
   "name": "python3"
  },
  "language_info": {
   "name": "python",
   "version": "3.10.0 (tags/v3.10.0:b494f59, Oct  4 2021, 19:00:18) [MSC v.1929 64 bit (AMD64)]"
  },
  "orig_nbformat": 4,
  "vscode": {
   "interpreter": {
    "hash": "8fbfba7cb8bdca769b43cbb833a817b4ca395e01b4b8dedb589dfb9294fd4e87"
   }
  }
 },
 "nbformat": 4,
 "nbformat_minor": 2
}
