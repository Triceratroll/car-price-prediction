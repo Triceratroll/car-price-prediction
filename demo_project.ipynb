{
 "cells": [
  {
   "cell_type": "code",
   "execution_count": 19,
   "metadata": {},
   "outputs": [],
   "source": [
    "#Importing the basic librarires fot analysis\n",
    "\n",
    "import numpy as np\n",
    "import pandas as pd\n",
    "import matplotlib.pyplot as plt\n",
    "import seaborn as sns"
   ]
  },
  {
   "cell_type": "code",
   "execution_count": null,
   "metadata": {},
   "outputs": [],
   "source": [
    "df = pd.read_csv('coches-de-segunda-mano-sample.csv')\n",
    "\n",
    "# Look at the variables names\n",
    "print(df.columns)\n",
    "\n",
    "# Check the data types\n",
    "print(df.dtypes)\n",
    "\n",
    "# Summary Statistics\n",
    "print(df.describe)\n",
    "\n",
    "df.head()"
   ]
  },
  {
   "cell_type": "code",
   "execution_count": null,
   "metadata": {},
   "outputs": [],
   "source": [
    "# Histogram  of prices \n",
    "sns.histplot(df['price'])\n",
    "plt.show()\n",
    "\n",
    "# Scatter plot of price vs. km\n",
    "sns.scatterplot(x='price', y='color', data=df)\n",
    "plt.show()\n",
    "\n",
    "# Box plot of price by make\n",
    "sns.boxplot(x=\"make\", y=\"price\", data=df)\n",
    "plt.show()"
   ]
  },
  {
   "cell_type": "code",
   "execution_count": null,
   "metadata": {},
   "outputs": [],
   "source": [
    "# Check for missing values\n",
    "print(df.isnull().sum())\n",
    "\n",
    "# Delete column price_financed (not useful and lots of na)\n",
    "df.drop(['price_financed'], axis = 1, inplace = True)\n",
    "\n",
    "# Drop rows with missing values\n",
    "cars = df.dropna()\n",
    "\n",
    "# Show new dataframe\n",
    "cars.shape[0]"
   ]
  },
  {
   "cell_type": "code",
   "execution_count": null,
   "metadata": {},
   "outputs": [],
   "source": [
    "# Calculate the average price by make\n",
    "avg_price_by_make = cars.groupby(\"make\")[\"price\"].mean()\n",
    "print(avg_price_by_make)\n",
    "\n",
    "# Find the cars with high km and low price\n",
    "high_kms_low_price =  cars[(cars['kms'] > 100000) & (cars['price'] < 5000)]\n",
    "print(high_kms_low_price)"
   ]
  },
  {
   "cell_type": "code",
   "execution_count": null,
   "metadata": {},
   "outputs": [],
   "source": [
    "# Visualize the relationships between the variables\n",
    "sns.pairplot(cars)\n",
    "plt.show()\n",
    "\n",
    "# Calculate Pearson's correlation coefficient\n",
    "corr = cars.corr()\n",
    "print(corr)"
   ]
  },
  {
   "cell_type": "code",
   "execution_count": 25,
   "metadata": {},
   "outputs": [
    {
     "name": "stdout",
     "output_type": "stream",
     "text": [
      "Mean Absolute Error: 5134.039085329691\n",
      "Root Mean Squared Error: 10325.95646774424\n",
      "Mean Absolute Percentage Error: 55.50875942241478\n"
     ]
    }
   ],
   "source": [
    "# Build a linear regression model to predict\n",
    "\n",
    "from sklearn.linear_model import LinearRegression\n",
    "from sklearn.model_selection import train_test_split\n",
    "\n",
    "\n",
    "# Select the variables to use in the model\n",
    "X = cars[[\"kms\", \"year\",\"power\",\"doors\"]]\n",
    "y = cars[\"price\"]\n",
    "\n",
    "# Split the data into training and testing sets\n",
    "X_train, X_test, y_train, y_test = train_test_split(X, y, test_size=0.3)\n",
    "\n",
    "# Train a linear regression model\n",
    "model = LinearRegression()\n",
    "model.fit(X_train, y_train)\n",
    "\n",
    "# Evaluate the model on the testing set\n",
    "y_pred = model.predict(X_test)\n",
    "\n",
    "# Calculate the error metrics\n",
    "from sklearn.metrics import mean_absolute_error, mean_squared_error\n",
    "\n",
    "mae = mean_absolute_error(y_test, y_pred)\n",
    "rmse = np.sqrt(mean_squared_error(y_test, y_pred))\n",
    "mape = np.mean(np.abs((y_test - y_pred)/y_test))*100\n",
    "\n",
    "print(\"Mean Absolute Error:\", mae)\n",
    "print(\"Root Mean Squared Error:\", rmse)\n",
    "print(\"Mean Absolute Percentage Error:\", mape)"
   ]
  },
  {
   "cell_type": "code",
   "execution_count": null,
   "metadata": {},
   "outputs": [],
   "source": [
    "from sklearn.preprocessing import LabelEncoder \n",
    "\n",
    "# Create a LabelEncoder object\n",
    "make_le = LabelEncoder()\n",
    "model_le = LabelEncoder()\n",
    "version_le = LabelEncoder()\n",
    "fuel_le = LabelEncoder()\n",
    "shift_le = LabelEncoder()\n",
    "color_le = LabelEncoder()\n",
    "\n",
    "# Fit the encoder to the \"make\" column\n",
    "make_le.fit(cars[\"make\"])\n",
    "model_le.fit(cars[\"model\"])\n",
    "version_le.fit(cars[\"version\"])\n",
    "fuel_le.fit(cars[\"fuel\"])\n",
    "shift_le.fit(cars[\"shift\"])\n",
    "color_le.fit(cars[\"color\"])\n",
    "\n",
    "# Transform the \"make\" column into numeric values\n",
    "make_encoded = make_le.transform(cars[\"make\"])\n",
    "model_encoded = model_le.transform(cars[\"model\"])\n",
    "version_encoded = version_le.transform(cars[\"version\"])\n",
    "fuel_encoded = fuel_le.transform(cars[\"fuel\"])\n",
    "shift_encoded = shift_le.transform(cars[\"shift\"])\n",
    "color_encoded = color_le.transform(cars[\"color\"]) \n",
    "\n",
    "# Add the encoded values to the dataset\n",
    "cars[\"make_encoded\"] = make_encoded\n",
    "cars[\"model_encoded\"] = model_encoded\n",
    "cars[\"version_encoded\"] = version_encoded\n",
    "cars[\"fuel_encoded\"] = fuel_encoded\n",
    "cars[\"shift_encoded\"] = shift_encoded"
   ]
  },
  {
   "cell_type": "code",
   "execution_count": 31,
   "metadata": {},
   "outputs": [
    {
     "name": "stdout",
     "output_type": "stream",
     "text": [
      "Mean Absolute Error: 2984.5687867033025\n",
      "Root Mean Squared Error: 7760.163329674625\n",
      "Mean Absolute Percentage Error: 22.677228778256975\n"
     ]
    }
   ],
   "source": [
    "# Import the necessary libraries and packages\n",
    "\n",
    "from sklearn.model_selection import train_test_split\n",
    "from sklearn.tree import DecisionTreeRegressor\n",
    "\n",
    "\n",
    "# Select the variables to use in the model\n",
    "X = cars[[\"make_encoded\", \"model_encoded\", \"version_encoded\", \"fuel_encoded\", \"kms\", \"year\", \"power\", \"doors\", \"shift_encoded\", \"color_encoded\"]]\n",
    "y = cars[\"price\"]\n",
    "\n",
    "# Split the data into training and testing sets\n",
    "X_train, X_test, y_train, y_test = train_test_split(X, y, test_size=0.3)\n",
    "\n",
    "# Train a tree model\n",
    "model = DecisionTreeRegressor()\n",
    "model.fit(X_train, y_train)\n",
    "\n",
    "# Evaluate the model on the testing set\n",
    "y_pred = model.predict(X_test)\n",
    "\n",
    "# Calculate the error metrics\n",
    "from sklearn.metrics import mean_absolute_error, mean_squared_error\n",
    "\n",
    "mae = mean_absolute_error(y_test, y_pred)\n",
    "rmse = np.sqrt(mean_squared_error(y_test, y_pred))\n",
    "mape = np.mean(np.abs((y_test - y_pred)/y_test))*100\n",
    "\n",
    "print(\"Mean Absolute Error:\", mae)\n",
    "print(\"Root Mean Squared Error:\", rmse)\n",
    "print(\"Mean Absolute Percentage Error:\", mape)\n"
   ]
  },
  {
   "cell_type": "code",
   "execution_count": 30,
   "metadata": {},
   "outputs": [
    {
     "name": "stdout",
     "output_type": "stream",
     "text": [
      "Mean Absolute Error: 2194.693146370009\n",
      "Root Mean Squared Error: 5745.761038859308\n",
      "Mean Absolute Percentage Error: 16.60734193096273\n"
     ]
    }
   ],
   "source": [
    "# Import the necessary libraries and packages\n",
    "\n",
    "from sklearn.model_selection import train_test_split\n",
    "from sklearn.ensemble import RandomForestRegressor\n",
    "\n",
    "# Select the variables to use in the model\n",
    "X = cars[[\"make_encoded\", \"model_encoded\", \"version_encoded\", \"fuel_encoded\", \"kms\", \"year\", \"power\", \"doors\", \"shift_encoded\", \"color_encoded\"]]\n",
    "y = cars[\"price\"]\n",
    "\n",
    "# Split the data into training and testing sets\n",
    "X_train, X_test, y_train, y_test = train_test_split(X, y, test_size=0.2)\n",
    "\n",
    "# Train a random forest model\n",
    "model = RandomForestRegressor()\n",
    "model.fit(X_train, y_train)\n",
    "\n",
    "# Evaluate the model on the testing set\n",
    "y_pred = model.predict(X_test)\n",
    "\n",
    "# Calculate the error metrics\n",
    "from sklearn.metrics import mean_absolute_error, mean_squared_error\n",
    "\n",
    "mae = mean_absolute_error(y_test, y_pred)\n",
    "rmse = np.sqrt(mean_squared_error(y_test, y_pred))\n",
    "mape = np.mean(np.abs((y_test - y_pred)/y_test))*100\n",
    "\n",
    "print(\"Mean Absolute Error:\", mae)\n",
    "print(\"Root Mean Squared Error:\", rmse)\n",
    "print(\"Mean Absolute Percentage Error:\", mape)\n"
   ]
  }
 ],
 "metadata": {
  "kernelspec": {
   "display_name": "Python 3.10.0 64-bit",
   "language": "python",
   "name": "python3"
  },
  "language_info": {
   "codemirror_mode": {
    "name": "ipython",
    "version": 3
   },
   "file_extension": ".py",
   "mimetype": "text/x-python",
   "name": "python",
   "nbconvert_exporter": "python",
   "pygments_lexer": "ipython3",
   "version": "3.10.0"
  },
  "orig_nbformat": 4,
  "vscode": {
   "interpreter": {
    "hash": "8fbfba7cb8bdca769b43cbb833a817b4ca395e01b4b8dedb589dfb9294fd4e87"
   }
  }
 },
 "nbformat": 4,
 "nbformat_minor": 2
}
