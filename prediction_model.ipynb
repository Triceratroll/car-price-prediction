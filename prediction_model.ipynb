{
 "cells": [
  {
   "cell_type": "code",
   "execution_count": null,
   "metadata": {},
   "outputs": [],
   "source": [
    "#Importing the basic librarires fot analysis\n",
    "\n",
    "import numpy as np\n",
    "import pandas as pd\n",
    "import matplotlib.pyplot as plt\n",
    "import seaborn as sns"
   ]
  },
  {
   "cell_type": "code",
   "execution_count": null,
   "metadata": {},
   "outputs": [],
   "source": [
    "df = pd.read_csv('coches-de-segunda-mano-sample.csv')\n",
    "\n",
    "# Look at the variables names\n",
    "print(df.columns)\n",
    "\n",
    "# Check the data types\n",
    "print(df.dtypes)\n",
    "\n",
    "# Summary Statistics\n",
    "print(df.describe)\n",
    "\n",
    "df.head()"
   ]
  },
  {
   "cell_type": "code",
   "execution_count": null,
   "metadata": {},
   "outputs": [],
   "source": [
    "# Check for missing values\n",
    "print(df.isnull().sum())\n",
    "\n",
    "# Delete column price_financed (not useful and lots of na)\n",
    "df.drop(['price_financed'], axis = 1, inplace = True)\n",
    "\n",
    "# Delete other non useful columns\n",
    "df.drop(columns=['url', 'company', 'publish_date', 'insert_date', 'dealer', 'country'], inplace=True)\n",
    "\n",
    "# Drop rows with missing values\n",
    "cars = df.dropna()\n",
    "\n",
    "# Show new dataframe\n",
    "cars.shape[0]"
   ]
  },
  {
   "cell_type": "code",
   "execution_count": null,
   "metadata": {},
   "outputs": [],
   "source": [
    "# Calculate the average price by make\n",
    "avg_price_by_make = cars.groupby(\"make\")[\"price\"].mean()\n",
    "print(avg_price_by_make)\n",
    "\n",
    "# Find the cars with high km and low price\n",
    "high_kms_low_price =  cars[(cars['kms'] > 100000) & (cars['price'] < 5000)]\n",
    "print(high_kms_low_price)"
   ]
  },
  {
   "attachments": {},
   "cell_type": "markdown",
   "metadata": {},
   "source": [
    "# MODELS "
   ]
  },
  {
   "attachments": {},
   "cell_type": "markdown",
   "metadata": {},
   "source": [
    "## Linear Regression"
   ]
  },
  {
   "cell_type": "code",
   "execution_count": null,
   "metadata": {},
   "outputs": [],
   "source": [
    "# Build a linear regression model to predict\n",
    "\n",
    "from sklearn.linear_model import LinearRegression\n",
    "from sklearn.model_selection import train_test_split\n",
    "\n",
    "\n",
    "# Select the variables to use in the model\n",
    "X = cars[[\"kms\", \"year\",\"power\",\"doors\"]]\n",
    "y = cars[\"price\"]\n",
    "\n",
    "# Split the data into training and testing sets\n",
    "X_train, X_test, y_train, y_test = train_test_split(X, y, test_size=0.3)\n",
    "\n",
    "# Train a linear regression model\n",
    "model = LinearRegression()\n",
    "model.fit(X_train, y_train)\n",
    "\n",
    "# Evaluate the model on the testing set\n",
    "y_pred = model.predict(X_test)\n",
    "\n",
    "# Calculate the error metrics\n",
    "from sklearn.metrics import mean_absolute_error, mean_squared_error\n",
    "\n",
    "mae = mean_absolute_error(y_test, y_pred)\n",
    "rmse = np.sqrt(mean_squared_error(y_test, y_pred))\n",
    "mape = np.mean(np.abs((y_test - y_pred)/y_test))*100\n",
    "\n",
    "print(\"Mean Absolute Error:\", mae)\n",
    "print(\"Root Mean Squared Error:\", rmse)\n",
    "print(\"Mean Absolute Percentage Error:\", mape)"
   ]
  },
  {
   "attachments": {},
   "cell_type": "markdown",
   "metadata": {},
   "source": [
    "### Object to numeric Codification"
   ]
  },
  {
   "cell_type": "code",
   "execution_count": null,
   "metadata": {},
   "outputs": [],
   "source": [
    "from sklearn.preprocessing import LabelEncoder \n",
    "\n",
    "# Create a LabelEncoder object\n",
    "make_le = LabelEncoder()\n",
    "model_le = LabelEncoder()\n",
    "fuel_le = LabelEncoder()\n",
    "shift_le = LabelEncoder()\n",
    "color_le = LabelEncoder()\n",
    "province_le = LabelEncoder()\n",
    "\n",
    "# Fit the encoder to the \"make\" column\n",
    "make_le.fit(cars[\"make\"])\n",
    "model_le.fit(cars[\"model\"]) \n",
    "fuel_le.fit(cars[\"fuel\"])\n",
    "shift_le.fit(cars[\"shift\"])\n",
    "color_le.fit(cars[\"color\"]) \n",
    "province_le.fit(cars[\"province\"])\n",
    "\n",
    "# Transform the \"make\" column into numeric values\n",
    "make_encoded = make_le.transform(cars[\"make\"])\n",
    "model_encoded = model_le.transform(cars[\"model\"]) \n",
    "fuel_encoded = fuel_le.transform(cars[\"fuel\"])\n",
    "shift_encoded = shift_le.transform(cars[\"shift\"])\n",
    "color_encoded = color_le.transform(cars[\"color\"])  \n",
    "province_encoded = province_le.transform(cars[\"province\"]) \n",
    "\n",
    "# Add the encoded values to the dataset\n",
    "cars[\"make_encoded\"] = make_encoded\n",
    "cars[\"model_encoded\"] = model_encoded\n",
    "cars[\"fuel_encoded\"] = fuel_encoded\n",
    "cars[\"shift_encoded\"] = shift_encoded\n",
    "cars[\"color_encoded\"] = color_encoded \n",
    "cars[\"province_encoded\"] = province_encoded"
   ]
  },
  {
   "attachments": {},
   "cell_type": "markdown",
   "metadata": {},
   "source": [
    "## Linear regression endcoded"
   ]
  },
  {
   "cell_type": "code",
   "execution_count": null,
   "metadata": {},
   "outputs": [],
   "source": [
    "# Build a linear regression model to predict\n",
    "\n",
    "from sklearn.linear_model import LinearRegression\n",
    "from sklearn.model_selection import train_test_split\n",
    "\n",
    "\n",
    "# Select the variables to use in the model\n",
    "X = cars[[\"make_encoded\", \"model_encoded\", \"fuel_encoded\", \"kms\", \"year\", \"power\", \"doors\", \"shift_encoded\", \"color_encoded\", \"photos\", \"is_professional\", \"province_encoded\"]]\n",
    "y = cars[\"price\"]\n",
    "\n",
    "# Split the data into training and testing sets\n",
    "X_train, X_test, y_train, y_test = train_test_split(X, y, test_size=0.3)\n",
    "\n",
    "# Train a linear regression model\n",
    "model = LinearRegression()\n",
    "model.fit(X_train, y_train)\n",
    "\n",
    "# Evaluate the model on the testing set\n",
    "y_pred = model.predict(X_test)\n",
    "\n",
    "# Calculate the error metrics\n",
    "from sklearn.metrics import mean_absolute_error, mean_squared_error\n",
    "\n",
    "mae = mean_absolute_error(y_test, y_pred)\n",
    "rmse = np.sqrt(mean_squared_error(y_test, y_pred))\n",
    "mape = np.mean(np.abs((y_test - y_pred)/y_test))*100\n",
    "\n",
    "print(\"Mean Absolute Error:\", mae)\n",
    "print(\"Root Mean Squared Error:\", rmse)\n",
    "print(\"Mean Absolute Percentage Error:\", mape)"
   ]
  },
  {
   "cell_type": "code",
   "execution_count": null,
   "metadata": {},
   "outputs": [],
   "source": [
    "# We Calculate Pearson's correlation coefficient again but this time we have encoded the object data types to numeric\n",
    "corr = cars.corr()['price'].sort_values()\n",
    "print(corr)"
   ]
  },
  {
   "attachments": {},
   "cell_type": "markdown",
   "metadata": {},
   "source": [
    "## Decision Tree Regressor Model "
   ]
  },
  {
   "cell_type": "code",
   "execution_count": null,
   "metadata": {},
   "outputs": [],
   "source": [
    "# Import the necessary libraries and packages\n",
    "\n",
    "from sklearn.model_selection import train_test_split\n",
    "from sklearn.tree import DecisionTreeRegressor\n",
    "\n",
    "\n",
    "# Select the variables to use in the model\n",
    "X = cars[[\"make_encoded\", \"model_encoded\", \"fuel_encoded\", \"kms\", \"year\", \"power\", \"doors\", \"shift_encoded\", \"color_encoded\", \"photos\", \"is_professional\", \"province_encoded\"]]\n",
    "y = cars[\"price\"]\n",
    "\n",
    "# Split the data into training and testing sets\n",
    "X_train, X_test, y_train, y_test = train_test_split(X, y, test_size=0.3)\n",
    "\n",
    "# Train a tree model\n",
    "model = DecisionTreeRegressor()\n",
    "model.fit(X_train, y_train)\n",
    "\n",
    "# Evaluate the model on the testing set\n",
    "y_pred = model.predict(X_test)\n",
    "\n",
    "# Calculate the error metrics\n",
    "from sklearn.metrics import mean_absolute_error, mean_squared_error\n",
    "\n",
    "mae = mean_absolute_error(y_test, y_pred)\n",
    "rmse = np.sqrt(mean_squared_error(y_test, y_pred))\n",
    "mape = np.mean(np.abs((y_test - y_pred)/y_test))*100\n",
    "\n",
    "print(\"Mean Absolute Error:\", mae)\n",
    "print(\"Root Mean Squared Error:\", rmse)\n",
    "print(\"Mean Absolute Percentage Error:\", mape)\n"
   ]
  },
  {
   "attachments": {},
   "cell_type": "markdown",
   "metadata": {},
   "source": [
    "## Random Forest Regressor Model"
   ]
  },
  {
   "cell_type": "code",
   "execution_count": 71,
   "metadata": {},
   "outputs": [
    {
     "name": "stdout",
     "output_type": "stream",
     "text": [
      "Mean Absolute Error: 2293.4111202252034\n",
      "Root Mean Squared Error: 5943.585531193813\n",
      "Mean Absolute Percentage Error: 17.28507632839995\n"
     ]
    }
   ],
   "source": [
    "# Import the necessary libraries and packages\n",
    "\n",
    "from sklearn.model_selection import train_test_split\n",
    "from sklearn.ensemble import RandomForestRegressor\n",
    "\n",
    "# Select the variables to use in the model\n",
    "X = cars[[\"make_encoded\", \"model_encoded\", \"fuel_encoded\",  \"year\", \"kms\", \"power\", \"doors\", \"shift_encoded\", \"color_encoded\", \"photos\", \"is_professional\", \"province_encoded\"]]\n",
    "y = cars[\"price\"]\n",
    "\n",
    "# Split the data into training and testing sets\n",
    "X_train, X_test, y_train, y_test = train_test_split(X, y, test_size=0.3)\n",
    "\n",
    "# Train a random forest model\n",
    "model = RandomForestRegressor()\n",
    "model.fit(X_train, y_train)\n",
    "\n",
    "# Evaluate the model on the testing set\n",
    "y_pred = model.predict(X_test)\n",
    "\n",
    "# Calculate the error metrics\n",
    "from sklearn.metrics import mean_absolute_error, mean_squared_error\n",
    "\n",
    "mae = mean_absolute_error(y_test, y_pred)\n",
    "rmse = np.sqrt(mean_squared_error(y_test, y_pred))\n",
    "mape = np.mean(np.abs((y_test - y_pred)/y_test))*100\n",
    "\n",
    "print(\"Mean Absolute Error:\", mae)\n",
    "print(\"Root Mean Squared Error:\", rmse)\n",
    "print(\"Mean Absolute Percentage Error:\", mape)\n"
   ]
  },
  {
   "attachments": {},
   "cell_type": "markdown",
   "metadata": {},
   "source": [
    "## Multi-layer Perceptron Regressor (NeuralNetwork)"
   ]
  },
  {
   "cell_type": "code",
   "execution_count": null,
   "metadata": {},
   "outputs": [],
   "source": [
    "# Import the necessary libraries and packages\n",
    "\n",
    "from sklearn.model_selection import train_test_split\n",
    "from sklearn.neural_network import MLPRegressor\n",
    "\n",
    "# Select the variables to use in the model\n",
    "X = cars[[\"make_encoded\", \"model_encoded\", \"fuel_encoded\",  \"year\", \"kms\", \"power\", \"doors\", \"shift_encoded\", \"color_encoded\", \"photos\", \"is_professional\", \"province_encoded\"]]\n",
    "y = cars[\"price\"]\n",
    "\n",
    "# Split the data into training and testing sets\n",
    "X_train, X_test, y_train, y_test = train_test_split(X, y, test_size=0.3)\n",
    "\n",
    "# Train a neural network model\n",
    "model = MLPRegressor(hidden_layer_sizes=(32,16,8), activation=\"relu\", solver=\"adam\")\n",
    "model.fit(X_train, y_train)\n",
    "\n",
    "# Evaluate the model on the testing set\n",
    "y_pred = model.predict(X_test)\n",
    "\n",
    "# Calculate the error metrics\n",
    "from sklearn.metrics import mean_absolute_error, mean_squared_error\n",
    "\n",
    "mae = mean_absolute_error(y_test, y_pred)\n",
    "rmse = np.sqrt(mean_squared_error(y_test, y_pred))\n",
    "mape = np.mean(np.abs((y_test - y_pred)/y_test))*100\n",
    "\n",
    "print(\"Mean Absolute Error:\", mae)\n",
    "print(\"Root Mean Squared Error:\", rmse)\n",
    "print(\"Mean Absolute Percentage Error:\", mape)\n"
   ]
  },
  {
   "attachments": {},
   "cell_type": "markdown",
   "metadata": {},
   "source": [
    "## K-Nearest Neighbors Regressor"
   ]
  },
  {
   "cell_type": "code",
   "execution_count": null,
   "metadata": {},
   "outputs": [],
   "source": [
    "# Import the necessary libraries and packages\n",
    "\n",
    "from sklearn.model_selection import train_test_split\n",
    "from sklearn.neighbors import KNeighborsRegressor\n",
    "\n",
    "# Select the variables to use in the model\n",
    "X = cars[[\"make_encoded\", \"model_encoded\", \"fuel_encoded\",  \"year\", \"kms\", \"power\", \"doors\", \"shift_encoded\", \"color_encoded\", \"photos\", \"is_professional\", \"province_encoded\"]]\n",
    "y = cars[\"price\"]\n",
    "\n",
    "# Split the data into training and testing sets\n",
    "X_train, X_test, y_train, y_test = train_test_split(X, y, test_size=0.3)\n",
    "\n",
    "# Train a KNN regressor\n",
    "model = KNeighborsRegressor(n_neighbors=3, weights='uniform')\n",
    "model.fit(X_train, y_train)\n",
    "\n",
    "# Evaluate the model on the testing set\n",
    "y_pred = model.predict(X_test)\n",
    "\n",
    "# Calculate the error metrics\n",
    "from sklearn.metrics import mean_absolute_error, mean_squared_error\n",
    "\n",
    "mae = mean_absolute_error(y_test, y_pred)\n",
    "rmse = np.sqrt(mean_squared_error(y_test, y_pred))\n",
    "mape = np.mean(np.abs((y_test - y_pred)/y_test))*100\n",
    "\n",
    "print(\"Mean Absolute Error:\", mae)\n",
    "print(\"Root Mean Squared Error:\", rmse)\n",
    "print(\"Mean Absolute Percentage Error:\", mape)\n"
   ]
  },
  {
   "attachments": {},
   "cell_type": "markdown",
   "metadata": {},
   "source": [
    "## Extreme Gradient Boosting Regressor"
   ]
  },
  {
   "cell_type": "code",
   "execution_count": 68,
   "metadata": {},
   "outputs": [
    {
     "name": "stdout",
     "output_type": "stream",
     "text": [
      "Mean Absolute Error: 2162.1135146037377\n",
      "Root Mean Squared Error: 5034.849483051224\n",
      "Mean Absolute Percentage Error: 16.91277880099646\n"
     ]
    }
   ],
   "source": [
    "# Import the necessary libraries and packages\n",
    "from xgboost import XGBRegressor\n",
    "from sklearn.model_selection import train_test_split\n",
    "\n",
    "# Select the variables to use in the model\n",
    "X = cars[[\"make_encoded\", \"model_encoded\", \"fuel_encoded\",  \"year\", \"kms\", \"power\", \"doors\", \"shift_encoded\", \"color_encoded\", \"photos\", \"is_professional\", \"province_encoded\"]]\n",
    "y = cars[\"price\"]\n",
    "\n",
    "# Split the data into training and testing sets\n",
    "X_train, X_test, y_train, y_test = train_test_split(X, y, test_size=0.2)\n",
    "\n",
    "# Train an XGBoost model\n",
    "model = XGBRegressor()\n",
    "model.fit(X_train, y_train)\n",
    "\n",
    "# Evaluate the model on the testing set\n",
    "y_pred = model.predict(X_test)\n",
    "\n",
    "# Calculate the error metrics\n",
    "from sklearn.metrics import mean_absolute_error, mean_squared_error\n",
    "\n",
    "mae = mean_absolute_error(y_test, y_pred)\n",
    "rmse = np.sqrt(mean_squared_error(y_test, y_pred))\n",
    "mape = np.mean(np.abs((y_test - y_pred)/y_test))*100\n",
    "\n",
    "print(\"Mean Absolute Error:\", mae)\n",
    "print(\"Root Mean Squared Error:\", rmse)\n",
    "print(\"Mean Absolute Percentage Error:\", mape)\n"
   ]
  },
  {
   "attachments": {},
   "cell_type": "markdown",
   "metadata": {},
   "source": [
    "# Example Evaluation"
   ]
  },
  {
   "cell_type": "code",
   "execution_count": 58,
   "metadata": {},
   "outputs": [
    {
     "name": "stdout",
     "output_type": "stream",
     "text": [
      "An aproximated fair Price would be:  [3454.8745] €\n"
     ]
    }
   ],
   "source": [
    "\n",
    "new_row_2 = {'make':'CITROEN', 'model': 'C1', 'fuel': 'Gasolina', 'year': 2000.0, 'kms': 55505, 'power': 82.0, \n",
    "'doors': 5, 'shift': 'Manual', 'color':'Blanco', 'photos': 7, 'is_professional': True, 'province': 'Tenerife'}\n",
    "\n",
    "new_row = {'make':'BMW', 'model': 'Serie 3', 'fuel': 'Diésel', 'year': 2004.0, 'kms': 220000.0, 'power': 150.0, \n",
    "'doors': 5, 'shift': 'Manual', 'color':'Azul', 'photos': 7, 'is_professional': False, 'province': 'Valencia'}\n",
    "\n",
    "my_car = pd.DataFrame(new_row, index=[0])\n",
    "\n",
    "# Transform the \"make\" column into numeric values\n",
    "make_encoded = make_le.transform(my_car[\"make\"])\n",
    "model_encoded = model_le.transform(my_car[\"model\"])\n",
    "fuel_encoded = fuel_le.transform(my_car[\"fuel\"])\n",
    "shift_encoded = shift_le.transform(my_car[\"shift\"])\n",
    "color_encoded = color_le.transform(my_car[\"color\"])  \n",
    "province_encoded = province_le.transform(my_car[\"province\"]) \n",
    "\n",
    "# Add the encoded values to the dataset\n",
    "my_car[\"make_encoded\"] = make_encoded\n",
    "my_car[\"model_encoded\"] = model_encoded\n",
    "my_car[\"fuel_encoded\"] = fuel_encoded\n",
    "my_car[\"shift_encoded\"] = shift_encoded\n",
    "my_car[\"color_encoded\"] = color_encoded \n",
    "my_car[\"province_encoded\"] = province_encoded\n",
    "\n",
    "X = my_car[[\"make_encoded\", \"model_encoded\", \"fuel_encoded\",  \"year\", \"kms\", \"power\", \"doors\", \"shift_encoded\", \"color_encoded\", \"photos\", \"is_professional\", \"province_encoded\"]]\n",
    "\n",
    "my_car.head(1)\n",
    "\n",
    "y_pred = model.predict(X)\n",
    "\n",
    "print(\"An aproximated fair Price would be: \", y_pred,  \"€\")"
   ]
  },
  {
   "cell_type": "code",
   "execution_count": null,
   "metadata": {},
   "outputs": [],
   "source": [
    "le_make_mapping = dict(zip(make_le.classes_, make_le.transform(make_le.classes_)))\n",
    "print(le_make_mapping)"
   ]
  },
  {
   "cell_type": "code",
   "execution_count": null,
   "metadata": {},
   "outputs": [],
   "source": [
    "le_model_mapping = dict(zip(model_le.classes_, model_le.transform(model_le.classes_)))\n",
    "print(le_model_mapping)"
   ]
  },
  {
   "cell_type": "code",
   "execution_count": null,
   "metadata": {},
   "outputs": [],
   "source": [
    "le_fuel_mapping = dict(zip(fuel_le.classes_, fuel_le.transform(fuel_le.classes_)))\n",
    "print(le_fuel_mapping)"
   ]
  },
  {
   "cell_type": "code",
   "execution_count": null,
   "metadata": {},
   "outputs": [],
   "source": [
    "le_shift_mapping = dict(zip(shift_le.classes_, shift_le.transform(shift_le.classes_)))\n",
    "print(le_shift_mapping)"
   ]
  },
  {
   "cell_type": "code",
   "execution_count": null,
   "metadata": {},
   "outputs": [],
   "source": [
    "le_province_mapping = dict(zip(province_le.classes_, province_le.transform(province_le.classes_)))\n",
    "print(le_province_mapping)"
   ]
  },
  {
   "cell_type": "code",
   "execution_count": null,
   "metadata": {},
   "outputs": [],
   "source": [
    "le_color_mapping = dict(zip(color_le.classes_, color_le.transform(color_le.classes_)))\n",
    "print(le_color_mapping)"
   ]
  },
  {
   "cell_type": "code",
   "execution_count": null,
   "metadata": {},
   "outputs": [],
   "source": [
    "cars.loc[cars['color'] == 'Marrón']"
   ]
  },
  {
   "cell_type": "code",
   "execution_count": 70,
   "metadata": {},
   "outputs": [
    {
     "ename": "ValueError",
     "evalue": "training data did not have the following fields: make_encoded, model_encoded, fuel_encoded, year, kms, power, doors, shift_encoded, color_encoded, photos, is_professional, province_encoded",
     "output_type": "error",
     "traceback": [
      "\u001b[1;31m---------------------------------------------------------------------------\u001b[0m",
      "\u001b[1;31mValueError\u001b[0m                                Traceback (most recent call last)",
      "\u001b[1;32mc:\\Users\\adria\\Documents\\Code Projects\\car-price-prediction\\prediction_model.ipynb Celda 32\u001b[0m in \u001b[0;36m<cell line: 11>\u001b[1;34m()\u001b[0m\n\u001b[0;32m      <a href='vscode-notebook-cell:/c%3A/Users/adria/Documents/Code%20Projects/car-price-prediction/prediction_model.ipynb#X34sZmlsZQ%3D%3D?line=2'>3</a>\u001b[0m to_predict_list \u001b[39m=\u001b[39m [[\u001b[39m7\u001b[39m, \u001b[39m691\u001b[39m, \u001b[39m0\u001b[39m, \u001b[39m2004.0\u001b[39m, \u001b[39m220000.0\u001b[39m, \u001b[39m150.0\u001b[39m, \u001b[39m5\u001b[39m, \u001b[39m1\u001b[39m , \u001b[39m255\u001b[39m , \u001b[39m7\u001b[39m, \u001b[39mFalse\u001b[39;00m, \u001b[39m45\u001b[39m]]\n\u001b[0;32m      <a href='vscode-notebook-cell:/c%3A/Users/adria/Documents/Code%20Projects/car-price-prediction/prediction_model.ipynb#X34sZmlsZQ%3D%3D?line=4'>5</a>\u001b[0m \u001b[39m# print(to_predict_list)\u001b[39;00m\n\u001b[0;32m      <a href='vscode-notebook-cell:/c%3A/Users/adria/Documents/Code%20Projects/car-price-prediction/prediction_model.ipynb#X34sZmlsZQ%3D%3D?line=5'>6</a>\u001b[0m \u001b[39m# to_predict_list = list(map(int, to_predict_list))\u001b[39;00m\n\u001b[0;32m      <a href='vscode-notebook-cell:/c%3A/Users/adria/Documents/Code%20Projects/car-price-prediction/prediction_model.ipynb#X34sZmlsZQ%3D%3D?line=6'>7</a>\u001b[0m \u001b[39m# print(to_predict_list)\u001b[39;00m\n\u001b[0;32m      <a href='vscode-notebook-cell:/c%3A/Users/adria/Documents/Code%20Projects/car-price-prediction/prediction_model.ipynb#X34sZmlsZQ%3D%3D?line=7'>8</a>\u001b[0m \u001b[39m# to_predict = np.array(to_predict_list).reshape(1, 12)\u001b[39;00m\n\u001b[0;32m      <a href='vscode-notebook-cell:/c%3A/Users/adria/Documents/Code%20Projects/car-price-prediction/prediction_model.ipynb#X34sZmlsZQ%3D%3D?line=8'>9</a>\u001b[0m \u001b[39m# print(to_predict)\u001b[39;00m\n\u001b[1;32m---> <a href='vscode-notebook-cell:/c%3A/Users/adria/Documents/Code%20Projects/car-price-prediction/prediction_model.ipynb#X34sZmlsZQ%3D%3D?line=10'>11</a>\u001b[0m y_pred \u001b[39m=\u001b[39m model\u001b[39m.\u001b[39;49mpredict(to_predict_list)\n\u001b[0;32m     <a href='vscode-notebook-cell:/c%3A/Users/adria/Documents/Code%20Projects/car-price-prediction/prediction_model.ipynb#X34sZmlsZQ%3D%3D?line=12'>13</a>\u001b[0m \u001b[39mprint\u001b[39m(\u001b[39m\"\u001b[39m\u001b[39mAn aproximated fair Price would be: \u001b[39m\u001b[39m\"\u001b[39m, y_pred,  \u001b[39m\"\u001b[39m\u001b[39m€\u001b[39m\u001b[39m\"\u001b[39m)\n",
      "File \u001b[1;32mc:\\Users\\adria\\AppData\\Local\\Programs\\Python\\Python310\\lib\\site-packages\\xgboost\\sklearn.py:1165\u001b[0m, in \u001b[0;36mXGBModel.predict\u001b[1;34m(self, X, output_margin, ntree_limit, validate_features, base_margin, iteration_range)\u001b[0m\n\u001b[0;32m   1155\u001b[0m         \u001b[39mpass\u001b[39;00m\n\u001b[0;32m   1157\u001b[0m test \u001b[39m=\u001b[39m DMatrix(\n\u001b[0;32m   1158\u001b[0m     X,\n\u001b[0;32m   1159\u001b[0m     base_margin\u001b[39m=\u001b[39mbase_margin,\n\u001b[1;32m   (...)\u001b[0m\n\u001b[0;32m   1163\u001b[0m     enable_categorical\u001b[39m=\u001b[39m\u001b[39mself\u001b[39m\u001b[39m.\u001b[39menable_categorical,\n\u001b[0;32m   1164\u001b[0m )\n\u001b[1;32m-> 1165\u001b[0m \u001b[39mreturn\u001b[39;00m \u001b[39mself\u001b[39;49m\u001b[39m.\u001b[39;49mget_booster()\u001b[39m.\u001b[39;49mpredict(\n\u001b[0;32m   1166\u001b[0m     data\u001b[39m=\u001b[39;49mtest,\n\u001b[0;32m   1167\u001b[0m     iteration_range\u001b[39m=\u001b[39;49miteration_range,\n\u001b[0;32m   1168\u001b[0m     output_margin\u001b[39m=\u001b[39;49moutput_margin,\n\u001b[0;32m   1169\u001b[0m     validate_features\u001b[39m=\u001b[39;49mvalidate_features,\n\u001b[0;32m   1170\u001b[0m )\n",
      "File \u001b[1;32mc:\\Users\\adria\\AppData\\Local\\Programs\\Python\\Python310\\lib\\site-packages\\xgboost\\core.py:2137\u001b[0m, in \u001b[0;36mBooster.predict\u001b[1;34m(self, data, output_margin, ntree_limit, pred_leaf, pred_contribs, approx_contribs, pred_interactions, validate_features, training, iteration_range, strict_shape)\u001b[0m\n\u001b[0;32m   2135\u001b[0m     \u001b[39mraise\u001b[39;00m \u001b[39mTypeError\u001b[39;00m(\u001b[39m'\u001b[39m\u001b[39mExpecting data to be a DMatrix object, got: \u001b[39m\u001b[39m'\u001b[39m, \u001b[39mtype\u001b[39m(data))\n\u001b[0;32m   2136\u001b[0m \u001b[39mif\u001b[39;00m validate_features:\n\u001b[1;32m-> 2137\u001b[0m     \u001b[39mself\u001b[39;49m\u001b[39m.\u001b[39;49m_validate_dmatrix_features(data)\n\u001b[0;32m   2138\u001b[0m iteration_range \u001b[39m=\u001b[39m _convert_ntree_limit(\u001b[39mself\u001b[39m, ntree_limit, iteration_range)\n\u001b[0;32m   2139\u001b[0m args \u001b[39m=\u001b[39m {\n\u001b[0;32m   2140\u001b[0m     \u001b[39m\"\u001b[39m\u001b[39mtype\u001b[39m\u001b[39m\"\u001b[39m: \u001b[39m0\u001b[39m,\n\u001b[0;32m   2141\u001b[0m     \u001b[39m\"\u001b[39m\u001b[39mtraining\u001b[39m\u001b[39m\"\u001b[39m: training,\n\u001b[1;32m   (...)\u001b[0m\n\u001b[0;32m   2144\u001b[0m     \u001b[39m\"\u001b[39m\u001b[39mstrict_shape\u001b[39m\u001b[39m\"\u001b[39m: strict_shape,\n\u001b[0;32m   2145\u001b[0m }\n",
      "File \u001b[1;32mc:\\Users\\adria\\AppData\\Local\\Programs\\Python\\Python310\\lib\\site-packages\\xgboost\\core.py:2744\u001b[0m, in \u001b[0;36mBooster._validate_dmatrix_features\u001b[1;34m(self, data)\u001b[0m\n\u001b[0;32m   2741\u001b[0m \u001b[39mif\u001b[39;00m \u001b[39mself\u001b[39m\u001b[39m.\u001b[39mfeature_types \u001b[39mis\u001b[39;00m \u001b[39mNone\u001b[39;00m:\n\u001b[0;32m   2742\u001b[0m     \u001b[39mself\u001b[39m\u001b[39m.\u001b[39mfeature_types \u001b[39m=\u001b[39m ft\n\u001b[1;32m-> 2744\u001b[0m \u001b[39mself\u001b[39;49m\u001b[39m.\u001b[39;49m_validate_features(fn)\n",
      "File \u001b[1;32mc:\\Users\\adria\\AppData\\Local\\Programs\\Python\\Python310\\lib\\site-packages\\xgboost\\core.py:2751\u001b[0m, in \u001b[0;36mBooster._validate_features\u001b[1;34m(self, feature_names)\u001b[0m\n\u001b[0;32m   2748\u001b[0m     \u001b[39mreturn\u001b[39;00m\n\u001b[0;32m   2750\u001b[0m \u001b[39mif\u001b[39;00m feature_names \u001b[39mis\u001b[39;00m \u001b[39mNone\u001b[39;00m \u001b[39mand\u001b[39;00m \u001b[39mself\u001b[39m\u001b[39m.\u001b[39mfeature_names \u001b[39mis\u001b[39;00m \u001b[39mnot\u001b[39;00m \u001b[39mNone\u001b[39;00m:\n\u001b[1;32m-> 2751\u001b[0m     \u001b[39mraise\u001b[39;00m \u001b[39mValueError\u001b[39;00m(\n\u001b[0;32m   2752\u001b[0m         \u001b[39m\"\u001b[39m\u001b[39mtraining data did not have the following fields: \u001b[39m\u001b[39m\"\u001b[39m\n\u001b[0;32m   2753\u001b[0m         \u001b[39m+\u001b[39m \u001b[39m\"\u001b[39m\u001b[39m, \u001b[39m\u001b[39m\"\u001b[39m\u001b[39m.\u001b[39mjoin(\u001b[39mself\u001b[39m\u001b[39m.\u001b[39mfeature_names)\n\u001b[0;32m   2754\u001b[0m     )\n\u001b[0;32m   2756\u001b[0m \u001b[39mif\u001b[39;00m \u001b[39mself\u001b[39m\u001b[39m.\u001b[39mfeature_names \u001b[39m!=\u001b[39m feature_names:\n\u001b[0;32m   2757\u001b[0m     dat_missing \u001b[39m=\u001b[39m \u001b[39mset\u001b[39m(cast(FeatureNames, \u001b[39mself\u001b[39m\u001b[39m.\u001b[39mfeature_names)) \u001b[39m-\u001b[39m \u001b[39mset\u001b[39m(\n\u001b[0;32m   2758\u001b[0m         cast(FeatureNames, feature_names)\n\u001b[0;32m   2759\u001b[0m     )\n",
      "\u001b[1;31mValueError\u001b[0m: training data did not have the following fields: make_encoded, model_encoded, fuel_encoded, year, kms, power, doors, shift_encoded, color_encoded, photos, is_professional, province_encoded"
     ]
    }
   ],
   "source": [
    "\n",
    "# to_predict_list = ['BMW','Serie 3','Diésel',2004.0,220000.0,150.0,5,'Manual','Azul',7,False,'Valencia']\n",
    "\n",
    "to_predict_list = [[7, 691, 0, 2004.0, 220000.0, 150.0, 5, 1 , 255 , 7, False, 45]]\n",
    "\n",
    "# print(to_predict_list)\n",
    "# to_predict_list = list(map(int, to_predict_list))\n",
    "# print(to_predict_list)\n",
    "# to_predict = np.array(to_predict_list).reshape(1, 12)\n",
    "# print(to_predict)\n",
    "\n",
    "y_pred = model.predict(to_predict_list)\n",
    "\n",
    "print(\"An aproximated fair Price would be: \", y_pred,  \"€\")"
   ]
  },
  {
   "cell_type": "code",
   "execution_count": 72,
   "metadata": {},
   "outputs": [],
   "source": [
    "import pickle\n",
    "\n",
    "pickle.dump(model, open('model.pkl', 'wb'))"
   ]
  }
 ],
 "metadata": {
  "kernelspec": {
   "display_name": "Python 3.10.0 64-bit",
   "language": "python",
   "name": "python3"
  },
  "language_info": {
   "codemirror_mode": {
    "name": "ipython",
    "version": 3
   },
   "file_extension": ".py",
   "mimetype": "text/x-python",
   "name": "python",
   "nbconvert_exporter": "python",
   "pygments_lexer": "ipython3",
   "version": "3.10.0"
  },
  "orig_nbformat": 4,
  "vscode": {
   "interpreter": {
    "hash": "8fbfba7cb8bdca769b43cbb833a817b4ca395e01b4b8dedb589dfb9294fd4e87"
   }
  }
 },
 "nbformat": 4,
 "nbformat_minor": 2
}
