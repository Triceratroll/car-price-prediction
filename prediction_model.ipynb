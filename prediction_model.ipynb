{
 "cells": [
  {
   "cell_type": "code",
   "execution_count": 2,
   "metadata": {},
   "outputs": [],
   "source": [
    "#Importing the basic librarires fot analysis\n",
    "\n",
    "import numpy as np\n",
    "import pandas as pd\n",
    "import matplotlib.pyplot as plt\n",
    "import seaborn as sns"
   ]
  },
  {
   "cell_type": "code",
   "execution_count": null,
   "metadata": {},
   "outputs": [],
   "source": [
    "df = pd.read_csv('coches-de-segunda-mano-sample.csv')\n",
    "\n",
    "# Look at the variables names\n",
    "print(df.columns)\n",
    "\n",
    "# Check the data types\n",
    "print(df.dtypes)\n",
    "\n",
    "# Summary Statistics\n",
    "print(df.describe)\n",
    "\n",
    "df.head()"
   ]
  },
  {
   "cell_type": "code",
   "execution_count": null,
   "metadata": {},
   "outputs": [],
   "source": [
    "# Check for missing values\n",
    "print(df.isnull().sum())\n",
    "\n",
    "# Delete column price_financed (not useful and lots of na)\n",
    "df.drop(['price_financed'], axis = 1, inplace = True)\n",
    "\n",
    "# Delete other non useful columns\n",
    "df.drop(columns=['url', 'company', 'publish_date', 'insert_date'], inplace=True)\n",
    "\n",
    "# Drop rows with missing values\n",
    "cars = df.dropna()\n",
    "\n",
    "# Show new dataframe\n",
    "cars.shape[0]"
   ]
  },
  {
   "cell_type": "code",
   "execution_count": null,
   "metadata": {},
   "outputs": [],
   "source": [
    "# Calculate the average price by make\n",
    "avg_price_by_make = cars.groupby(\"make\")[\"price\"].mean()\n",
    "print(avg_price_by_make)\n",
    "\n",
    "# Find the cars with high km and low price\n",
    "high_kms_low_price =  cars[(cars['kms'] > 100000) & (cars['price'] < 5000)]\n",
    "print(high_kms_low_price)"
   ]
  },
  {
   "attachments": {},
   "cell_type": "markdown",
   "metadata": {},
   "source": [
    "# MODELS "
   ]
  },
  {
   "attachments": {},
   "cell_type": "markdown",
   "metadata": {},
   "source": [
    "## Linear Regression"
   ]
  },
  {
   "cell_type": "code",
   "execution_count": 29,
   "metadata": {},
   "outputs": [
    {
     "name": "stdout",
     "output_type": "stream",
     "text": [
      "Mean Absolute Error: 4981.140719377973\n",
      "Root Mean Squared Error: 10364.418870650548\n",
      "Mean Absolute Percentage Error: 55.42219767138427\n"
     ]
    }
   ],
   "source": [
    "# Build a linear regression model to predict\n",
    "\n",
    "from sklearn.linear_model import LinearRegression\n",
    "from sklearn.model_selection import train_test_split\n",
    "\n",
    "\n",
    "# Select the variables to use in the model\n",
    "X = cars[[\"kms\", \"year\",\"power\",\"doors\"]]\n",
    "y = cars[\"price\"]\n",
    "\n",
    "# Split the data into training and testing sets\n",
    "X_train, X_test, y_train, y_test = train_test_split(X, y, test_size=0.3)\n",
    "\n",
    "# Train a linear regression model\n",
    "model = LinearRegression()\n",
    "model.fit(X_train, y_train)\n",
    "\n",
    "# Evaluate the model on the testing set\n",
    "y_pred = model.predict(X_test)\n",
    "\n",
    "# Calculate the error metrics\n",
    "from sklearn.metrics import mean_absolute_error, mean_squared_error\n",
    "\n",
    "mae = mean_absolute_error(y_test, y_pred)\n",
    "rmse = np.sqrt(mean_squared_error(y_test, y_pred))\n",
    "mape = np.mean(np.abs((y_test - y_pred)/y_test))*100\n",
    "\n",
    "print(\"Mean Absolute Error:\", mae)\n",
    "print(\"Root Mean Squared Error:\", rmse)\n",
    "print(\"Mean Absolute Percentage Error:\", mape)"
   ]
  },
  {
   "attachments": {},
   "cell_type": "markdown",
   "metadata": {},
   "source": [
    "### Object to numeric Codification"
   ]
  },
  {
   "cell_type": "code",
   "execution_count": null,
   "metadata": {},
   "outputs": [],
   "source": [
    "from sklearn.preprocessing import LabelEncoder \n",
    "\n",
    "# Create a LabelEncoder object\n",
    "make_le = LabelEncoder()\n",
    "model_le = LabelEncoder()\n",
    "version_le = LabelEncoder()\n",
    "fuel_le = LabelEncoder()\n",
    "shift_le = LabelEncoder()\n",
    "color_le = LabelEncoder()\n",
    "province_le = LabelEncoder()\n",
    "\n",
    "# Fit the encoder to the \"make\" column\n",
    "make_le.fit(cars[\"make\"])\n",
    "model_le.fit(cars[\"model\"])\n",
    "version_le.fit(cars[\"version\"])\n",
    "fuel_le.fit(cars[\"fuel\"])\n",
    "shift_le.fit(cars[\"shift\"])\n",
    "color_le.fit(cars[\"color\"]) \n",
    "province_le.fit(cars[\"province\"])\n",
    "\n",
    "# Transform the \"make\" column into numeric values\n",
    "make_encoded = make_le.transform(cars[\"make\"])\n",
    "model_encoded = model_le.transform(cars[\"model\"])\n",
    "version_encoded = version_le.transform(cars[\"version\"])\n",
    "fuel_encoded = fuel_le.transform(cars[\"fuel\"])\n",
    "shift_encoded = shift_le.transform(cars[\"shift\"])\n",
    "color_encoded = color_le.transform(cars[\"color\"])  \n",
    "province_encoded = province_le.transform(cars[\"province\"]) \n",
    "\n",
    "# Add the encoded values to the dataset\n",
    "cars[\"make_encoded\"] = make_encoded\n",
    "cars[\"model_encoded\"] = model_encoded\n",
    "cars[\"version_encoded\"] = version_encoded\n",
    "cars[\"fuel_encoded\"] = fuel_encoded\n",
    "cars[\"shift_encoded\"] = shift_encoded\n",
    "cars[\"color_encoded\"] = color_encoded \n",
    "cars[\"province_encoded\"] = province_encoded"
   ]
  },
  {
   "attachments": {},
   "cell_type": "markdown",
   "metadata": {},
   "source": [
    "## Linear regression endcoded"
   ]
  },
  {
   "cell_type": "code",
   "execution_count": 31,
   "metadata": {},
   "outputs": [
    {
     "name": "stdout",
     "output_type": "stream",
     "text": [
      "Mean Absolute Error: 4911.869906607731\n",
      "Root Mean Squared Error: 9979.93540226983\n",
      "Mean Absolute Percentage Error: 60.1027186278361\n"
     ]
    }
   ],
   "source": [
    "# Build a linear regression model to predict\n",
    "\n",
    "from sklearn.linear_model import LinearRegression\n",
    "from sklearn.model_selection import train_test_split\n",
    "\n",
    "\n",
    "# Select the variables to use in the model\n",
    "X = cars[[\"make_encoded\", \"model_encoded\", \"version_encoded\", \"fuel_encoded\", \"kms\", \"year\", \"power\", \"doors\", \"shift_encoded\", \"color_encoded\", \"is_professional\", \"province_encoded\"]]\n",
    "y = cars[\"price\"]\n",
    "\n",
    "# Split the data into training and testing sets\n",
    "X_train, X_test, y_train, y_test = train_test_split(X, y, test_size=0.3)\n",
    "\n",
    "# Train a linear regression model\n",
    "model = LinearRegression()\n",
    "model.fit(X_train, y_train)\n",
    "\n",
    "# Evaluate the model on the testing set\n",
    "y_pred = model.predict(X_test)\n",
    "\n",
    "# Calculate the error metrics\n",
    "from sklearn.metrics import mean_absolute_error, mean_squared_error\n",
    "\n",
    "mae = mean_absolute_error(y_test, y_pred)\n",
    "rmse = np.sqrt(mean_squared_error(y_test, y_pred))\n",
    "mape = np.mean(np.abs((y_test - y_pred)/y_test))*100\n",
    "\n",
    "print(\"Mean Absolute Error:\", mae)\n",
    "print(\"Root Mean Squared Error:\", rmse)\n",
    "print(\"Mean Absolute Percentage Error:\", mape)"
   ]
  },
  {
   "cell_type": "code",
   "execution_count": null,
   "metadata": {},
   "outputs": [],
   "source": [
    "# We Calculate Pearson's correlation coefficient again but this time we have encoded the object data types to numeric\n",
    "corr = cars.corr()['price'].sort_values()\n",
    "print(corr)"
   ]
  },
  {
   "attachments": {},
   "cell_type": "markdown",
   "metadata": {},
   "source": [
    "## Decision Tree Regressor Model "
   ]
  },
  {
   "cell_type": "code",
   "execution_count": 12,
   "metadata": {},
   "outputs": [
    {
     "name": "stdout",
     "output_type": "stream",
     "text": [
      "Mean Absolute Error: 3048.527705942568\n",
      "Root Mean Squared Error: 7690.492365134777\n",
      "Mean Absolute Percentage Error: 23.06490087117314\n"
     ]
    }
   ],
   "source": [
    "# Import the necessary libraries and packages\n",
    "\n",
    "from sklearn.model_selection import train_test_split\n",
    "from sklearn.tree import DecisionTreeRegressor\n",
    "\n",
    "\n",
    "# Select the variables to use in the model\n",
    "X = cars[[\"make_encoded\", \"model_encoded\", \"version_encoded\", \"fuel_encoded\", \"kms\", \"year\", \"power\", \"doors\", \"shift_encoded\", \"color_encoded\", \"is_professional\", \"province_encoded\"]]\n",
    "y = cars[\"price\"]\n",
    "\n",
    "# Split the data into training and testing sets\n",
    "X_train, X_test, y_train, y_test = train_test_split(X, y, test_size=0.3)\n",
    "\n",
    "# Train a tree model\n",
    "model = DecisionTreeRegressor()\n",
    "model.fit(X_train, y_train)\n",
    "\n",
    "# Evaluate the model on the testing set\n",
    "y_pred = model.predict(X_test)\n",
    "\n",
    "# Calculate the error metrics\n",
    "from sklearn.metrics import mean_absolute_error, mean_squared_error\n",
    "\n",
    "mae = mean_absolute_error(y_test, y_pred)\n",
    "rmse = np.sqrt(mean_squared_error(y_test, y_pred))\n",
    "mape = np.mean(np.abs((y_test - y_pred)/y_test))*100\n",
    "\n",
    "print(\"Mean Absolute Error:\", mae)\n",
    "print(\"Root Mean Squared Error:\", rmse)\n",
    "print(\"Mean Absolute Percentage Error:\", mape)\n"
   ]
  },
  {
   "attachments": {},
   "cell_type": "markdown",
   "metadata": {},
   "source": [
    "## Random Forest Regressor Model"
   ]
  },
  {
   "cell_type": "code",
   "execution_count": 27,
   "metadata": {},
   "outputs": [
    {
     "name": "stdout",
     "output_type": "stream",
     "text": [
      "Mean Absolute Error: 2084.4004781877516\n",
      "Root Mean Squared Error: 4378.824474296932\n",
      "Mean Absolute Percentage Error: 16.99128811865897\n"
     ]
    }
   ],
   "source": [
    "# Import the necessary libraries and packages\n",
    "\n",
    "from sklearn.model_selection import train_test_split\n",
    "from sklearn.ensemble import RandomForestRegressor\n",
    "\n",
    "# Select the variables to use in the model\n",
    "X = cars[[\"make_encoded\", \"model_encoded\", \"version_encoded\", \"fuel_encoded\",  \"year\", \"kms\", \"power\", \"doors\", \"shift_encoded\", \"color_encoded\", \"is_professional\", \"province_encoded\"]]\n",
    "y = cars[\"price\"]\n",
    "\n",
    "# Split the data into training and testing sets\n",
    "X_train, X_test, y_train, y_test = train_test_split(X, y, test_size=0.3)\n",
    "\n",
    "# Train a random forest model\n",
    "model = RandomForestRegressor()\n",
    "model.fit(X_train, y_train)\n",
    "\n",
    "# Evaluate the model on the testing set\n",
    "y_pred = model.predict(X_test)\n",
    "\n",
    "# Calculate the error metrics\n",
    "from sklearn.metrics import mean_absolute_error, mean_squared_error\n",
    "\n",
    "mae = mean_absolute_error(y_test, y_pred)\n",
    "rmse = np.sqrt(mean_squared_error(y_test, y_pred))\n",
    "mape = np.mean(np.abs((y_test - y_pred)/y_test))*100\n",
    "\n",
    "print(\"Mean Absolute Error:\", mae)\n",
    "print(\"Root Mean Squared Error:\", rmse)\n",
    "print(\"Mean Absolute Percentage Error:\", mape)\n"
   ]
  },
  {
   "attachments": {},
   "cell_type": "markdown",
   "metadata": {},
   "source": [
    "## Multi-layer Perceptron Regressor (NeuralNetwork)"
   ]
  },
  {
   "cell_type": "code",
   "execution_count": 25,
   "metadata": {},
   "outputs": [
    {
     "name": "stdout",
     "output_type": "stream",
     "text": [
      "Mean Absolute Error: 4009.6578186718025\n",
      "Root Mean Squared Error: 6685.446174152231\n",
      "Mean Absolute Percentage Error: 40.150904374197445\n"
     ]
    }
   ],
   "source": [
    "# Import the necessary libraries and packages\n",
    "\n",
    "from sklearn.model_selection import train_test_split\n",
    "from sklearn.neural_network import MLPRegressor\n",
    "\n",
    "# Select the variables to use in the model\n",
    "X = cars[[\"make_encoded\", \"model_encoded\", \"version_encoded\", \"fuel_encoded\",  \"year\", \"kms\", \"power\", \"doors\", \"shift_encoded\", \"color_encoded\", \"is_professional\", \"province_encoded\"]]\n",
    "y = cars[\"price\"]\n",
    "\n",
    "# Split the data into training and testing sets\n",
    "X_train, X_test, y_train, y_test = train_test_split(X, y, test_size=0.3)\n",
    "\n",
    "# Train a neural network model\n",
    "model = MLPRegressor(hidden_layer_sizes=(32,16,8), activation=\"relu\", solver=\"adam\")\n",
    "model.fit(X_train, y_train)\n",
    "\n",
    "# Evaluate the model on the testing set\n",
    "y_pred = model.predict(X_test)\n",
    "\n",
    "# Calculate the error metrics\n",
    "from sklearn.metrics import mean_absolute_error, mean_squared_error\n",
    "\n",
    "mae = mean_absolute_error(y_test, y_pred)\n",
    "rmse = np.sqrt(mean_squared_error(y_test, y_pred))\n",
    "mape = np.mean(np.abs((y_test - y_pred)/y_test))*100\n",
    "\n",
    "print(\"Mean Absolute Error:\", mae)\n",
    "print(\"Root Mean Squared Error:\", rmse)\n",
    "print(\"Mean Absolute Percentage Error:\", mape)\n"
   ]
  },
  {
   "attachments": {},
   "cell_type": "markdown",
   "metadata": {},
   "source": [
    "## K-Nearest Neighbors Regressor"
   ]
  },
  {
   "cell_type": "code",
   "execution_count": 39,
   "metadata": {},
   "outputs": [
    {
     "name": "stdout",
     "output_type": "stream",
     "text": [
      "Mean Absolute Error: 6993.415440978396\n",
      "Root Mean Squared Error: 14521.684774843667\n",
      "Mean Absolute Percentage Error: 65.85970377933408\n"
     ]
    }
   ],
   "source": [
    "# Import the necessary libraries and packages\n",
    "\n",
    "from sklearn.model_selection import train_test_split\n",
    "from sklearn.neighbors import KNeighborsRegressor\n",
    "\n",
    "# Select the variables to use in the model\n",
    "X = cars[[\"make_encoded\", \"model_encoded\", \"version_encoded\", \"fuel_encoded\",  \"year\", \"kms\", \"power\", \"doors\", \"shift_encoded\", \"color_encoded\", \"is_professional\", \"province_encoded\"]]\n",
    "y = cars[\"price\"]\n",
    "\n",
    "# Split the data into training and testing sets\n",
    "X_train, X_test, y_train, y_test = train_test_split(X, y, test_size=0.3)\n",
    "\n",
    "# Train a KNN regressor\n",
    "model = KNeighborsRegressor(n_neighbors=3, weights='uniform')\n",
    "model.fit(X_train, y_train)\n",
    "\n",
    "# Evaluate the model on the testing set\n",
    "y_pred = model.predict(X_test)\n",
    "\n",
    "# Calculate the error metrics\n",
    "from sklearn.metrics import mean_absolute_error, mean_squared_error\n",
    "\n",
    "mae = mean_absolute_error(y_test, y_pred)\n",
    "rmse = np.sqrt(mean_squared_error(y_test, y_pred))\n",
    "mape = np.mean(np.abs((y_test - y_pred)/y_test))*100\n",
    "\n",
    "print(\"Mean Absolute Error:\", mae)\n",
    "print(\"Root Mean Squared Error:\", rmse)\n",
    "print(\"Mean Absolute Percentage Error:\", mape)\n"
   ]
  },
  {
   "attachments": {},
   "cell_type": "markdown",
   "metadata": {},
   "source": [
    "## Extreme Gradient Boosting Regressor"
   ]
  },
  {
   "cell_type": "code",
   "execution_count": 41,
   "metadata": {},
   "outputs": [
    {
     "name": "stdout",
     "output_type": "stream",
     "text": [
      "Mean Absolute Error: 2145.538816545436\n",
      "Root Mean Squared Error: 5763.356462236575\n",
      "Mean Absolute Percentage Error: 16.17041733237943\n"
     ]
    }
   ],
   "source": [
    "# Import the necessary libraries and packages\n",
    "from xgboost import XGBRegressor\n",
    "from sklearn.model_selection import train_test_split\n",
    "\n",
    "# Select the variables to use in the model\n",
    "X = cars[[\"make_encoded\", \"model_encoded\", \"version_encoded\", \"fuel_encoded\",  \"year\", \"kms\", \"power\", \"doors\", \"shift_encoded\", \"color_encoded\", \"is_professional\", \"province_encoded\"]]\n",
    "y = cars[\"price\"]\n",
    "\n",
    "# Split the data into training and testing sets\n",
    "X_train, X_test, y_train, y_test = train_test_split(X, y, test_size=0.3)\n",
    "\n",
    "# Train an XGBoost model\n",
    "model = XGBRegressor()\n",
    "model.fit(X_train, y_train)\n",
    "\n",
    "# Evaluate the model on the testing set\n",
    "y_pred = model.predict(X_test)\n",
    "\n",
    "# Calculate the error metrics\n",
    "from sklearn.metrics import mean_absolute_error, mean_squared_error\n",
    "\n",
    "mae = mean_absolute_error(y_test, y_pred)\n",
    "rmse = np.sqrt(mean_squared_error(y_test, y_pred))\n",
    "mape = np.mean(np.abs((y_test - y_pred)/y_test))*100\n",
    "\n",
    "print(\"Mean Absolute Error:\", mae)\n",
    "print(\"Root Mean Squared Error:\", rmse)\n",
    "print(\"Mean Absolute Percentage Error:\", mape)\n"
   ]
  },
  {
   "attachments": {},
   "cell_type": "markdown",
   "metadata": {},
   "source": [
    "# Example Evaluation"
   ]
  },
  {
   "cell_type": "code",
   "execution_count": 44,
   "metadata": {},
   "outputs": [
    {
     "name": "stdout",
     "output_type": "stream",
     "text": [
      "An aproximated fair Price would be:  [3735.23]\n"
     ]
    }
   ],
   "source": [
    "\n",
    "new_row_2 = {'make':'CITROEN', 'model': 'C1', 'version': 'CITROEN C1 PureTech 60KW 82CV Feel 5p.', 'fuel': 'Gasolina', 'year': 2000.0, 'kms': 55505, 'power': 82.0, \n",
    "'doors': 5, 'shift': 'Manual', 'color':'Blanco', 'is_professional': True, 'province': 'Tenerife'}\n",
    "\n",
    "new_row = {'make':'BMW', 'model': 'Serie 3', 'version': 'BMW Serie 3 320D 4p.', 'fuel': 'Diésel', 'year': 2004.0, 'kms': 220000.0, 'power': 150.0, \n",
    "'doors': 5, 'shift': 'Manual', 'color':'Azul', 'is_professional': False, 'province': 'Valencia'}\n",
    "\n",
    "my_car = pd.DataFrame(new_row, index=[0])\n",
    "\n",
    "# Transform the \"make\" column into numeric values\n",
    "make_encoded = make_le.transform(my_car[\"make\"])\n",
    "model_encoded = model_le.transform(my_car[\"model\"])\n",
    "version_encoded = version_le.transform(my_car[\"version\"])\n",
    "fuel_encoded = fuel_le.transform(my_car[\"fuel\"])\n",
    "shift_encoded = shift_le.transform(my_car[\"shift\"])\n",
    "color_encoded = color_le.transform(my_car[\"color\"])  \n",
    "province_encoded = province_le.transform(my_car[\"province\"]) \n",
    "\n",
    "# Add the encoded values to the dataset\n",
    "my_car[\"make_encoded\"] = make_encoded\n",
    "my_car[\"model_encoded\"] = model_encoded\n",
    "my_car[\"version_encoded\"] = version_encoded\n",
    "my_car[\"fuel_encoded\"] = fuel_encoded\n",
    "my_car[\"shift_encoded\"] = shift_encoded\n",
    "my_car[\"color_encoded\"] = color_encoded \n",
    "my_car[\"province_encoded\"] = province_encoded\n",
    "\n",
    "X = my_car[[\"make_encoded\", \"model_encoded\", \"version_encoded\", \"fuel_encoded\",  \"year\", \"kms\", \"power\", \"doors\", \"shift_encoded\", \"color_encoded\", \"is_professional\", \"province_encoded\"]]\n",
    "\n",
    "my_car.head(1)\n",
    "\n",
    "y_pred = model.predict(X)\n",
    "\n",
    "print(\"An aproximated fair Price would be: \", y_pred,  \"€\")"
   ]
  }
 ],
 "metadata": {
  "kernelspec": {
   "display_name": "Python 3.10.0 64-bit",
   "language": "python",
   "name": "python3"
  },
  "language_info": {
   "codemirror_mode": {
    "name": "ipython",
    "version": 3
   },
   "file_extension": ".py",
   "mimetype": "text/x-python",
   "name": "python",
   "nbconvert_exporter": "python",
   "pygments_lexer": "ipython3",
   "version": "3.10.0"
  },
  "orig_nbformat": 4,
  "vscode": {
   "interpreter": {
    "hash": "8fbfba7cb8bdca769b43cbb833a817b4ca395e01b4b8dedb589dfb9294fd4e87"
   }
  }
 },
 "nbformat": 4,
 "nbformat_minor": 2
}
